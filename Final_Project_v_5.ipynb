{
  "cells": [
    {
      "cell_type": "markdown",
      "metadata": {
        "id": "K8D2mabhtCeh"
      },
      "source": [
        "# Modeling task specific biases in task-switching experiments using asymmetrical dynamical systems\n",
        "\n",
        "## By Marcel Schindler, Max Wassermann, Sigur Stück, Till Becker & Tjark Darius\n",
        "\n",
        "This Python notebook serves as a template for your group project for the course \"Modeling in Cognitive Science\".\n",
        "\n",
        "This is the practical part of the group project where you get to implement the computational modeling workflow. In this part, you are expected to:\n",
        "\n",
        "\n",
        "*   Implement at least two computational models relevant for your hypothesis. *(3 points)*\n",
        "*   Simulate behavior from the two models. *(3 points)*\n",
        "*   Implement a procedure for fitting the models to data. *(4 points)*\n",
        "*   Implement a procedure for parameter recovery. *(5 points)*\n",
        "*   (Implement a procedure for model recovery.) *(optional; 2 bonus points)*\n",
        "*   Implement a model comparison. *(5 points)*.\n",
        "\n",
        "You can gain a total of 20 points for the practical part of the group project.\n",
        "\n",
        "**Note:** *Some of the exercises below (e.g. Model Simulation) rely on code from previous exercises (e.g., Model Implementation). In such cases, you are encouraged to rely on functions implemented for previous exercises. That is, you don't have to produce redundant code.*\n",
        "\n"
      ]
    },
    {
      "cell_type": "markdown",
      "metadata": {
        "id": "HceMyA8DtIZ3"
      },
      "source": [
        "## Model Implementation *(3 points)*\n",
        "\n",
        "For this exercise you should:\n",
        "\n",
        "*   Implement and simulate data from two* models that are suitable to test your hypothesis. *(3 points)*\n",
        "\n",
        "<font size=2>*You may implement more than two models if you wish. However, two models are sufficient for this group project.</font>\n",
        "\n",
        "Make sure to comment your code and provide an explanation for each code block in a preceding text block.\n"
      ]
    },
    {
      "cell_type": "markdown",
      "metadata": {
        "id": "Qzz-p_ifTHRm"
      },
      "source": [
        "## Define functions used in model\n",
        "### Thanks to the teaching assistants for supplying many of these in problemset 4"
      ]
    },
    {
      "cell_type": "code",
      "execution_count": 1,
      "metadata": {
        "id": "isMmbQsKwZ_z"
      },
      "outputs": [],
      "source": [
        "# load neccessary libraries\n",
        "import numpy as np # for math stuff\n",
        "import pandas as pd # for data stuff\n",
        "from matplotlib import pyplot as plt # for plotting stuff\n",
        "from scipy.integrate import solve_ivp # used in model to calculate activations\n",
        "from scipy.optimize import fsolve # used in model to calculate activations\n",
        "from scipy.special import kl_div # used to determine fit of model and data"
      ]
    },
    {
      "cell_type": "code",
      "execution_count": 2,
      "metadata": {
        "id": "zzjbGa3GTiZU"
      },
      "outputs": [],
      "source": [
        "def S(g, net):\n",
        "\t\t\"\"\"Logistic saturation function, with slope modulated by a gain parameter\n",
        "\n",
        "\t\tInputs\n",
        "\t\t--------\n",
        "\t\tg: positive scalar neuronal gain\n",
        "\t\ty: net input to the neural processing unit\n",
        "\n",
        "    Output\n",
        "\t\t-------\n",
        "    sigmoid activation\n",
        "\t\t\"\"\"\n",
        "\n",
        "\t\treturn 1/(1 + np.exp(-g*net))\n",
        "\n",
        "\n",
        "def sim_trajectories(t, x, g, I1, I2, sigma, w_1_2=1, w_2_1=1, w_1_1=2, w_2_2=2):\n",
        "\t\t\"\"\" Dynamical model\n",
        "\n",
        "    Inputs\n",
        "\t\t------\n",
        "\t\tt: scalar time (you can ignore this variable)\n",
        "\t\tx: array [x1,x2] of activities of the neural units corresponding to tasks 1,2\n",
        "\t\tg: gain\n",
        "\t\tI1: input to x_1 (cue for task 1)\n",
        "\t\tI2: input to x_2 (cue for task 2)\n",
        "\t\tsigma: standard deviation of Gaussian noise added to the net input\n",
        "    w_{12}, w{21} = 1 : inhibitory weights\n",
        "    w_{11}, w{22} = 2 : excitory weights\n",
        "\n",
        "\n",
        "\t\tOutput\n",
        "\t\t-------\n",
        "\t\tdx1/dt(t,x)\n",
        "\t\tdx2/dt(t,x)\n",
        "\n",
        "\t\t\"\"\"\n",
        "\t\t# inhibitory weights\n",
        "\t\tw1_2 = w_1_2\n",
        "\t\tw2_1 = w_2_1\n",
        "\n",
        "\t\t# excitory weights\n",
        "\t\tw1_1 = w_1_1\n",
        "\t\tw2_2 = w_2_2\n",
        "\n",
        "\t\t# initial conditions\n",
        "\t\tx1 = x[0]\n",
        "\t\tx2 = x[1]\n",
        "\n",
        "    # calculate activation trajectory\n",
        "\t\tdx1_dt =  -x1 + S(g, (w1_1*x1 - w1_2*x2 + I1 + sigma * np.random.normal()))\n",
        "\t\tdx2_dt =  -x2 + S(g, (w2_2*x2 - w2_1*x1 + I2 + sigma * np.random.normal()))\n",
        "\n",
        "\t\treturn np.array([dx1_dt, dx2_dt])\n",
        "\n",
        "\n",
        "def get_activations(T, g, I1, I2, sigma, x1_0, x2_0, w_1_2=1, w_2_1=1, w_1_1=2, w_2_2=1, ax=None):\n",
        "    \"\"\" calculate activations of dynamical system at point T\n",
        "\n",
        "    Inputs\n",
        "    ------\n",
        "    T: time to calculate activation for (0 to T)\n",
        "    g: gain\n",
        "    I1: input to x_1 (cue for task 1)\n",
        "    I2: input to x_2 (cue for task 2)\n",
        "    sigma: standard deviation of Gaussian noise added to the net input\n",
        "    x1_0, x2_0: initial conditions (activities of the neural units corresponding to tasks 1,2)\n",
        "\n",
        "\n",
        "    Output\n",
        "    -------\n",
        "    dx1/dt(t,x)\n",
        "    dx2/dt(t,x)\n",
        "\n",
        "    \"\"\"\n",
        "    # Initial condition (x1(0), x2(0))\n",
        "    x_0 = np.array([x1_0, x2_0])\n",
        "\n",
        "    # Integrate differential equation\n",
        "    x_out = solve_ivp(sim_trajectories,\n",
        "                      np.array([0,T]),\n",
        "                      x_0,                # initial condition\n",
        "                      dense_output=True,  # dense_output = True allows us to compute x at any time points on the interval T\n",
        "                      args = [g, I1, I2, sigma, w_1_2, w_2_1, w_1_1, w_2_2]) # pass additional arguments to the simulation functon\n",
        "\n",
        "    # First, extract values of the simulation at the desired time grid:\n",
        "    ts = np.linspace(0,T,100)         # list of 100 evenly spaced points in the time interval we are considering\n",
        "    xt = x_out.sol(ts)                # solution of the integral at the specified time points\n",
        "    x1 = xt[0,:]                      # the values of x1(t) are in the first column of the matrix xt\n",
        "    x2 = xt[1,:]                      # the values of x2(t) are in the second column of the matrix xt\n",
        "\n",
        "    return x1[-1], x2[-1]\n",
        "\n",
        "\n",
        "\n",
        "def run_ddm(drift_rate = 1, threshold = 1, starting_point = 0.5, noise_std = 1, non_decision_time = 0, dt = 0.01, max_time = 200):\n",
        "\t\t\"\"\"\n",
        "\t\tSimulates the Drift Diffusion Model for one run with fixed time increments to match evidence points.\n",
        "\n",
        "    Inputs\n",
        "\t\t------\n",
        "\t\tdrift_rate: rate of evidence accumulation\n",
        "\t\tthreshold: evidence needed to reach a decision\n",
        "\t\tstarting_point: initial condition of the evidence\n",
        "\t\tnoise_std: standard deviation of the noise term\n",
        "\t\tnon_decision_time: time not included in the evidence accumulation process\n",
        "\t\tdt: time increment\n",
        "\t\tmax_time: maximum simulation time\n",
        "\n",
        "\n",
        "\t\tOutput\n",
        "\t\t-------\n",
        "\t\tdecision_time: the time taken to reach a decision\n",
        "\t\tevidence_over_time: the evidence accumulated over time\n",
        "\t\tdecision: 1 if the decision boundary reached is the upper threshold, -1 if lower\n",
        "\n",
        "    \"\"\"\n",
        "\t\t# Initialize evidence accumulation process\n",
        "\t\ttime = non_decision_time\n",
        "\t\tevidence = starting_point\n",
        "\t\tevidence_over_time = [evidence]\n",
        "\t\tlower_bound = 0\n",
        "\t\tquarter = (max_time / 4)\n",
        "\t\tsteps = (threshold / 2) / (quarter / dt)\n",
        "\n",
        "\t\t# Run the simulation until a decision boundary is reached or max time is exceeded\n",
        "\t\twhile time < max_time:\n",
        "\t\t\t\t# Increment the evidence by the drift and some noise\n",
        "\t\t\t\tevidence += drift_rate * dt + np.sqrt(dt) * noise_std * np.random.normal()\n",
        "\t\t\t\tevidence_over_time.append(evidence)\n",
        "\t\t\t\ttime += dt  # Increment the time\n",
        "\t\t\t\tif time > max_time - quarter:\n",
        "\t\t\t\t\tthreshold -= steps\n",
        "\t\t\t\t\tlower_bound += steps\n",
        "\n",
        "\t\t\t\t# Check if the evidence has reached either threshold\n",
        "\t\t\t\tif evidence >= threshold:\n",
        "\t\t\t\t\t\treturn time, evidence_over_time, 1  # Decision made for the upper threshold\n",
        "\t\t\t\telif evidence <= lower_bound:\n",
        "\t\t\t\t\t\treturn time, evidence_over_time, -1  # Decision made for the lower threshold\n",
        "\n",
        "\t\t# If no decision has been made by max_time, return the current state\n",
        "\t\treturn time, evidence_over_time, np.random.choice([-1,1])\n",
        "\n",
        "\n",
        "\n",
        "def plot_ddm_histograms(rt_upper_simulated, rt_lower_simulated, rt_upper_empirical = None, rt_lower_empirical = None, y_max = 0.5):\n",
        "\t\t\"\"\" plots the distribution of reaction times splitted into correct decisions and errors\n",
        "\n",
        "\t\tInputs\n",
        "\t\t------\n",
        "\t\trt_upper_simulated, rt_lower_simulated: the data simulated by the model\n",
        "\t\trt_upper_empirical = None, rt_lower_empirical = None: the empirical data, created by humans\n",
        "\t\ty_max = 0.5: the limit on the y axis\n",
        "\n",
        "\t\tOutputs\n",
        "\t\t-------\n",
        "\t\treturns nothing, simply creates plots of distribution of reaction times\n",
        "\t\t\"\"\"\n",
        "\t\t# Calculate the weights for each group to normalize the histograms\n",
        "\t\tweights_upper_simulated = np.ones_like(rt_upper_simulated) / float(len(rt_upper_simulated)+len(rt_lower_simulated))\n",
        "\t\tweights_lower_simulated = np.ones_like(rt_lower_simulated) / float(len(rt_upper_simulated)+len(rt_lower_simulated))\n",
        "\n",
        "\t\tif rt_upper_empirical is not None and rt_lower_empirical is not None:\n",
        "\t\t\tweights_upper_empirical = np.ones_like(rt_upper_empirical) / float(len(rt_upper_empirical)+len(rt_lower_empirical))\n",
        "\t\t\tweights_lower_empirical = np.ones_like(rt_lower_empirical) / float(len(rt_upper_empirical)+len(rt_lower_empirical))\n",
        "\n",
        "\t\t# set up figure\n",
        "\t\tfig, axs = plt.subplots(1, 2, figsize=(10, 5))  # 1 row, 2 columns\n",
        "\n",
        "\t\t# Plot the histograms for upper threshold\n",
        "\t\taxs[0].hist(rt_upper_simulated, bins=30, weights=weights_upper_simulated, alpha=0.5, color='blue', label='Simulated DDM')\n",
        "\t\tif rt_upper_empirical is not None:\n",
        "\t\t\taxs[0].hist(rt_upper_empirical, bins=30, weights=weights_upper_empirical, alpha=0.5, color='orange', label='Empirical Data')\n",
        "\t\taxs[0].set_xlabel('Reaction Time (seconds)')\n",
        "\t\taxs[0].set_ylabel('Normalized Frequency')\n",
        "\t\taxs[0].legend()\n",
        "\t\taxs[1].set_ylim([0, y_max])\n",
        "\t\taxs[0].set_title('Correct')\n",
        "\n",
        "\t\t# Plot the histograms for lower threshold\n",
        "\t\taxs[1].hist(rt_lower_simulated, bins=30, weights=weights_lower_simulated, alpha=0.5, color='blue', label='Simulated DDM')\n",
        "\t\tif rt_upper_empirical is not None:\n",
        "\t\t\taxs[1].hist(rt_lower_empirical, bins=30, weights=weights_lower_empirical, alpha=0.5, color='orange', label='Empirical Data')\n",
        "\t\taxs[1].set_xlabel('Reaction Time (seconds)')\n",
        "\t\taxs[1].set_ylabel('Normalized Frequency')\n",
        "\t\taxs[1].legend()\n",
        "\t\taxs[0].set_ylim([0, y_max])\n",
        "\t\taxs[1].set_title('Errors')\n",
        "\n",
        "\t\t# Adjust layout\n",
        "\t\tplt.tight_layout()\n",
        "\n",
        "\t\t# Display the figure\n",
        "\t\tplt.show()"
      ]
    },
    {
      "cell_type": "markdown",
      "metadata": {
        "id": "CKgevKSwYJQG"
      },
      "source": [
        "All of these functions were supplied by the teaching assistant and adjusted to fit our purposes. <br>\n",
        "Thus, sim_trajectories() also takes excitory weights as an input and get_activations was modified to not plot the trajectories over time, but to return them."
      ]
    },
    {
      "cell_type": "code",
      "execution_count": 3,
      "metadata": {
        "id": "u7oZptPIYIhI"
      },
      "outputs": [],
      "source": [
        "def calculate_drift(act_1, act_2, S_1, S_2, w_a):\n",
        "  \"\"\" calculate the drift rate\n",
        "\n",
        "  Inputs\n",
        "  -------\n",
        "  act_1, act_2: the net activations of node 1 and node 2 of the dynamical system\n",
        "  S_1, S_2: Values encoding the Stimulus Dimensions; S_1 for movement & S_2 for orientation\n",
        "  w_a: a weight to regulate the 'automatic response', when the stimulus (S_1 & S_2) is congruent\n",
        "\n",
        "  Output\n",
        "  -------\n",
        "  drift rate\n",
        "\n",
        "  \"\"\"\n",
        "  return w_a * (S_1 + S_2) + act_1 * S_1 + act_2 * S_2\n",
        "\n",
        "def get_S_and_I(dataframe, S_1=0.1, S_2=0.1, I_1=1, I_2=1):\n",
        "  \"\"\" retrieve the parameters S and I determined by each trial\n",
        "\n",
        "  Inputs\n",
        "  -------\n",
        "  dataframe: a dataframe containing the empirical data\n",
        "  S_1, S_2: the values with which the stimulus dimensions should be encoded (sign is determined by direction)\n",
        "  I_1, I_2: the values which cue the task, I_1 for movement and I_2 for orientation; 0 for when the other task is being done\n",
        "\n",
        "  Outputs\n",
        "  -------\n",
        "\ta list of length len(df) for each parameter, thus 4 lists in total, containing the values based on the trials\n",
        "  all_S_1, all_S_2, all_I_1, all_I_2\n",
        "\n",
        "  \"\"\"\n",
        "  # taken from experiment\n",
        "  # 0 is right\n",
        "  # 180 left\n",
        "\n",
        "  # we set S_1 to be responsible for movement\n",
        "  # and S_2 for orientation\n",
        "\n",
        "  # and positive for left\n",
        "  # and negative for right\n",
        "\n",
        "  # calculate S\n",
        "  all_S_1 = np.array(dataframe[\"coherent_movement_direction\"].to_list())\n",
        "  all_S_2 = np.array(dataframe[\"coherent_orientation\"].to_list())\n",
        "\n",
        "  all_S_1 = np.where(all_S_1 > 0, S_1, - S_1)\n",
        "  all_S_2 = np.where(all_S_2 > 0, S_2, - S_2)\n",
        "\n",
        "  # calculate I\n",
        "  all_I = np.array(dataframe[\"task_type\"].to_list())\n",
        "\n",
        "  all_I_1 = np.where(all_I == \"mov\", I_1, 0)\n",
        "  all_I_2 = np.where(all_I == \"or\", I_2, 0)\n",
        "\n",
        "  return all_S_1, all_S_2, all_I_1, all_I_2\n",
        "\n",
        "\n",
        "def check_decision(I_1, set_I_1, S_1, S_2, decision, verbose):\n",
        "\t\t\"\"\" checks if the decision by the network was correct or not\n",
        "\n",
        "\t\tInputs\n",
        "\t\t-------\n",
        "\t\tI_1: the value of I_1 for the trial (dont need I_2 as they are mutually exclusive, meaning when one I is 0 the other is not and vice versa)\n",
        "\t\tset_I_1: the value we set for I_1 (if I_1 == 0, we still need to now the value of I_1)\n",
        "\t\tS_1, S_2: the values with which the stimulus dimensions should be encoded (sign is determined by direction)\n",
        "\t\tdecision: decision is either 1 for left and -1 for right\n",
        "\t\tverbose: boolean, whether to print anything\n",
        "\n",
        "\n",
        "\t\tOutput\n",
        "\t\t-------\n",
        "\t\t1 if correct decision, else 0\n",
        "\n",
        "\t\t\"\"\"\n",
        "\t\t# if I_1 is not 0, then it is a mov task\n",
        "\t\t# if S_1 is > 0, then the correct answer is left\n",
        "\t\tif I_1 == set_I_1 and S_1 > 0:\n",
        "\t\t\tif decision == -1:\n",
        "\t\t\t\tif verbose : print(\"incorrect \\n\")\n",
        "\t\t\t\treturn 0\n",
        "\t\t\telse:\n",
        "\t\t\t\tif verbose : print(\"correct \\n\")\n",
        "\t\t\t\treturn 1\n",
        "\n",
        "\t\telif I_1 == set_I_1 and S_1 < 0:\n",
        "\t\t\tif decision == 1:\n",
        "\t\t\t\tif verbose : print(\"incorrect \\n\")\n",
        "\t\t\t\treturn 0\n",
        "\t\t\telse:\n",
        "\t\t\t\tif verbose : print(\"correct \\n\")\n",
        "\t\t\t\treturn 1\n",
        "\n",
        "\t\telif I_1 != set_I_1 and S_2 > 0:\n",
        "\t\t\tif decision == -1:\n",
        "\t\t\t\tif verbose : print(\"incorrect \\n\")\n",
        "\t\t\t\treturn 0\n",
        "\t\t\telse:\n",
        "\t\t\t\tif verbose : print(\"correct \\n\")\n",
        "\t\t\t\treturn 1\n",
        "\n",
        "\t\telif I_1 != set_I_1 and S_2 < 0:\n",
        "\t\t\tif decision == 1:\n",
        "\t\t\t\tif verbose : print(\"incorrect \\n\")\n",
        "\t\t\t\treturn 0\n",
        "\t\t\telse:\n",
        "\t\t\t\tif verbose : print(\"correct \\n\")\n",
        "\t\t\t\treturn 1\n",
        "\n",
        "\n",
        "def milli_to_sec(row):\n",
        "\t\t\"\"\" converts a dataframe row containing milli seconds to seconds\n",
        "\n",
        "\t\tInput\n",
        "\t\t-----\n",
        "\t\trow: a df row (usally in combination with df.apply)\n",
        "\n",
        "\t\tOutput\n",
        "\t\t------\n",
        "\t\trow.rt * 0.001\n",
        "\t\t\"\"\"\n",
        "\t\treturn row.rt * 0.001"
      ]
    },
    {
      "cell_type": "markdown",
      "metadata": {
        "id": "hIVEOB8ZaLru"
      },
      "source": [
        "Most of these functions are simply for convience and not used in the model, except for calculate_drift(), which is the \"connection\" between the control and decision module.\n",
        "The other functions are used to convert the experiment into \"machine\" form so to say, meaning we convert the trials into values, convert milli seconds to seconds and check if the model made the correct decision, based on the trial data.\n"
      ]
    },
    {
      "cell_type": "code",
      "execution_count": 4,
      "metadata": {
        "id": "Q4R8a4AjaMHA"
      },
      "outputs": [],
      "source": [
        "def model(T, g, sigma, w_1_2, w_2_1, w_1_1, w_2_2, dataset, I1=1, I2=1, verbose=True, print_hist=False, print_acc_and_score=True, single=False):\n",
        "    \"\"\" the complete model containing both the control and decision modules\n",
        "\n",
        "    Inputs\n",
        "    -------\n",
        "    T: time to return activation from (used in control module)\n",
        "    g: gain parameter modulating sigmoid saturation function (used in control module)\n",
        "    sigma: standard deviation for normal gaussian noise (used in control module)\n",
        "    w_1_2, w_2_1: inhibitory weights (used in control module)\n",
        "    w_1_1, w_2_2: excitory (recurrent) weights (used in control module)\n",
        "    dataset: the empirical dataset (dataframe), which gets converted so the model can do the trials too\n",
        "    I1=1, I2=1: the values which to encode the cue of the task, I1 for movement and I2 for orientation\n",
        "    verbose=True: boolean, whether to print each trial (rt, decision, etc.)\n",
        "    print_hist=False: boolean, whether to print the histogram with reaction times after all trials are done\n",
        "    print_acc_and_score=True: boolean, whether to print the accuracy of the model and the KL divergence if single=False\n",
        "    single=False: boolean, whether the model should simulate data alone or in comparisson to empirical data (False, if in comparisson)\n",
        "\n",
        "\n",
        "    Outputs\n",
        "    -------\n",
        "    (indirect plots, if desired)\n",
        "    list of reaction times (& KL divergence if desired)\n",
        "    \"\"\"\n",
        "    # parameters for control\n",
        "    x1_0 = 0\n",
        "    x2_0 = 0\n",
        "\n",
        "    # parameters for decision\n",
        "    threshold =  0.08\n",
        "    starting_point = threshold/2\n",
        "    noise_std = 0.025 #0.15\n",
        "    non_decision_time = 0.2\n",
        "    dt = 0.01\n",
        "    max_time = 1.65\n",
        "\n",
        "\n",
        "    # parameters between both modules\n",
        "    w_a = 0.25\n",
        "    set_S_1 = 0.05\n",
        "    set_S_2 = 0.05\n",
        "    set_I_1 = I1\n",
        "    set_I_2 = I2\n",
        "\n",
        "    w_1_2 = w_1_2\n",
        "    w_2_1 = w_2_1\n",
        "\n",
        "    w_1_1 = w_1_1\n",
        "    w_2_2 = w_2_2\n",
        "\n",
        "    # save all activations of experiment to use in control module\n",
        "    all_activations_1 = [x1_0]\n",
        "    all_activations_2 = [x2_0]\n",
        "\n",
        "    # save all reaction times based on decisions\n",
        "    rt_left = []\n",
        "    rt_right = []\n",
        "\n",
        "    # save results for accuracy\n",
        "    results = []\n",
        "    all_decisions = []\n",
        "\n",
        "    # get all S_1 and S_2\n",
        "    all_S_1, all_S_2, all_I_1, all_I_2 = get_S_and_I(dataset, S_1=set_S_1, S_2=set_S_2, I_1=set_I_1, I_2=set_I_2)\n",
        "\n",
        "    trial = 1\n",
        "    # go over experimental data\n",
        "    for S_1, S_2, I_1, I_2 in zip(all_S_1, all_S_2, all_I_1, all_I_2):\n",
        "\n",
        "\n",
        "      # first get activations\n",
        "      act_1, act_2 = get_activations(T, g, I_1, I_2, sigma, all_activations_1[-1], all_activations_2[-1], w_1_2, w_2_1, w_1_1, w_2_2)\n",
        "\n",
        "      all_activations_1.append(act_1)\n",
        "      all_activations_2.append(act_2)\n",
        "\n",
        "      # calculate drift rate\n",
        "      drift_rate = calculate_drift(all_activations_1[-1], all_activations_2[-1], S_1, S_2, w_a)\n",
        "      #print(drift_rate)\n",
        "\n",
        "      # get decision\n",
        "      decision_time, evidence_over_time, decision = run_ddm(drift_rate, threshold, starting_point, noise_std, non_decision_time, dt, max_time)\n",
        "\n",
        "      if verbose:\n",
        "        print(\"trial : \", trial)\n",
        "        print(\"task :\", \"mov\") if I_1 == set_I_1 else print(\"task :\", \"or\")\n",
        "        print(\"decision_time : \", decision_time)\n",
        "        print(\"last evidence : \", evidence_over_time[-1])\n",
        "        if decision != 0:\n",
        "          print(\"decision : \", \"right\") if decision == -1 else print(\"decision : \", \"left\")\n",
        "        else:\n",
        "          print(\"no decision made \\n\")\n",
        "\n",
        "\n",
        "      if decision != 0:\n",
        "          pred = check_decision(I_1, set_I_1, S_1, S_2, decision, verbose)\n",
        "          results.append(pred)\n",
        "\n",
        "      # taken from problemset\n",
        "      if pred == 0:\n",
        "          rt_right.append(decision_time)\n",
        "      elif pred == 1:\n",
        "          rt_left.append(decision_time)\n",
        "\n",
        "      #if trial not in missing:\n",
        "      all_decisions.append(decision_time)\n",
        "\n",
        "      trial += 1\n",
        "\n",
        "    # get empirical values for comparrisson\n",
        "    filtered_rt_false = dataset[dataset['correct'] == 0]['rt']\n",
        "    rt_right_empirical = filtered_rt_false.to_numpy()\n",
        "\n",
        "    filtered_rt_correct = dataset[dataset['correct'] == 1]['rt']\n",
        "    rt_left_empirical = filtered_rt_correct.to_numpy()\n",
        "\n",
        "    # plot histogram if desired\n",
        "    if print_hist:\n",
        "      if single:\n",
        "        plot_ddm_histograms(rt_left, rt_right, y_max = 0.25)\n",
        "      else:\n",
        "        plot_ddm_histograms(rt_left, rt_right, rt_left_empirical, rt_right_empirical, y_max = 0.25)\n",
        "\n",
        "    if print_acc_and_score:\n",
        "      print(\"model accuracy : \", sum(results)/len(results))\n",
        "\n",
        "      x = all_decisions\n",
        "      y = list(filtered_rt_false) + list(filtered_rt_correct)\n",
        "\n",
        "      score_x = sum(kl_div(x, y, out=None))\n",
        "      print(\"model divergence to empirical data (low == good) :\", score_x)\n",
        "\n",
        "      return all_decisions, score_x\n",
        "\n",
        "    # if single=False, the KL divergence to empirical data will be calculated\n",
        "    if not single:\n",
        "      x = all_decisions\n",
        "      y = list(filtered_rt_false) + list(filtered_rt_correct)\n",
        "      score_x = sum(kl_div(x, y, out=None))\n",
        "      return all_decisions, score_x\n",
        "\n",
        "    return all_decisions\n"
      ]
    },
    {
      "cell_type": "markdown",
      "metadata": {
        "id": "FEtY8exGaWF0"
      },
      "source": [
        "This was the complete model containing many of the defined functions before, making up the dynamical system and the drift diffusion model.\n",
        "It takes many parameters for providing feedback, which enabled us to finetune the parameters."
      ]
    },
    {
      "cell_type": "code",
      "execution_count": 5,
      "metadata": {
        "id": "cxJvFjJfay1T"
      },
      "outputs": [],
      "source": [
        "# our data is anonymized and uploaded at this repository https://github.com/tjayada/model_task_switching\n",
        "# in the next few lines we load the data and do a little pre-processing\n",
        "all_dfs = []\n",
        "for i in range(5):\n",
        "  all_dfs.append(pd.read_csv(f\"https://raw.githubusercontent.com/tjayada/model_task_switching/main/data/experiment_data_{i+1}.csv\"))\n",
        "\n",
        "\n",
        "df = pd.concat(all_dfs)\n",
        "\n",
        "df[\"rt\"] = df.apply(milli_to_sec, axis=1)\n",
        "df = df[df[\"rt\"] > .1] # Remove trials less than 100ms\n",
        "df = df[df[\"rt\"] < 1.65] # Remove trials greater than 1650ms\n",
        "dataset = df.copy()"
      ]
    },
    {
      "cell_type": "markdown",
      "metadata": {
        "id": "YSXWY8HaMvm2"
      },
      "source": [
        "We loaded our data from our repository."
      ]
    },
    {
      "cell_type": "code",
      "execution_count": 6,
      "metadata": {
        "colab": {
          "base_uri": "https://localhost:8080/"
        },
        "id": "9QJ9wA8_d69p",
        "outputId": "debac142-c504-4a2a-ec8e-72d397846b85"
      },
      "outputs": [
        {
          "output_type": "stream",
          "name": "stdout",
          "text": [
            "trial :  1\n",
            "task : mov\n",
            "decision_time :  0.8300000000000005\n",
            "last evidence :  0.08002758176349352\n",
            "decision :  left\n",
            "correct \n",
            "\n",
            "[0.8300000000000005]\n"
          ]
        }
      ],
      "source": [
        "# simulate a single trial using the model with recurrent connection\n",
        "rt = model(T=0.6, g=3.0, sigma=0.1, w_1_2=1, w_2_1=1, w_1_1=1, w_2_2=0, dataset=dataset.iloc[0:1], verbose=True, print_hist=False, print_acc_and_score=False, single=True)\n",
        "print(rt)"
      ]
    },
    {
      "cell_type": "code",
      "execution_count": 7,
      "metadata": {
        "colab": {
          "base_uri": "https://localhost:8080/"
        },
        "id": "miupJkdpjByH",
        "outputId": "1884ccdf-d87d-4764-e8f7-fe172ba3293c"
      },
      "outputs": [
        {
          "output_type": "stream",
          "name": "stdout",
          "text": [
            "trial :  1\n",
            "task : mov\n",
            "decision_time :  1.350000000000001\n",
            "last evidence :  0.07022759782399056\n",
            "decision :  left\n",
            "correct \n",
            "\n",
            "[1.350000000000001]\n"
          ]
        }
      ],
      "source": [
        "# simulate a single trial using the model with no recurrent connection\n",
        "rt = model(T=0.6, g=3.0, sigma=0.1, w_1_2=2, w_2_1=3, w_1_1=0, w_2_2=0, dataset=dataset.iloc[0:1], verbose=True, print_hist=False, print_acc_and_score=False, single=True)\n",
        "print(rt)"
      ]
    },
    {
      "cell_type": "markdown",
      "metadata": {
        "id": "gwibttXCazNV"
      },
      "source": [
        "All we did here was to simulate a single trial with each model. We set verbose=True, so we get more information, than simply the reaction time. Here we can see, that we did the first trial of the experiment, that the task was to determine the movement of the triangles, that the decision time was 0.7 for the recurrent and 1.1 seconds for the non recurrent model.\n",
        "We also see the last evidence, meaning the value which crossed the treshold, which decision this led to and whether this was the correct decision for this trial."
      ]
    },
    {
      "cell_type": "markdown",
      "metadata": {
        "id": "twTHrAfL2PC_"
      },
      "source": [
        "## Model Simulation *(3 points)*\n",
        "\n",
        "For this exercise you should:\n",
        "\n",
        "*   Simulate data from both models for a single set of parameters. The simulation should mimic the experiment you are trying to model. *(2 points)*\n",
        "\n",
        "*   Plot the simulated behavior of both models. *(1 point)*\n",
        "\n",
        "Make sure to comment your code and provide an explanation for each code block in a preceding text block.\n"
      ]
    },
    {
      "cell_type": "code",
      "execution_count": 8,
      "metadata": {
        "colab": {
          "base_uri": "https://localhost:8080/",
          "height": 507
        },
        "id": "XIk8efpKv-m-",
        "outputId": "177bc5a0-5474-4fe6-cd0a-d0551241f995"
      },
      "outputs": [
        {
          "output_type": "display_data",
          "data": {
            "text/plain": [
              "<Figure size 1000x500 with 2 Axes>"
            ],
            "image/png": "[encoded data removed]"
          },
          "metadata": {}
        }
      ],
      "source": [
        "# simulate the whole experiment using the model with recurrent connection\n",
        "rt = model(T=0.6, g=5.0, sigma=0.1, w_1_2=1, w_2_1=1, w_1_1=1, w_2_2=0, dataset=dataset, verbose=False, print_hist=True, print_acc_and_score=False, single=True)"
      ]
    },
    {
      "cell_type": "code",
      "execution_count": 9,
      "metadata": {
        "colab": {
          "base_uri": "https://localhost:8080/",
          "height": 507
        },
        "id": "Hn5pz8tWj7VI",
        "outputId": "da900360-b89a-4f1e-a650-d33e8f5a567a"
      },
      "outputs": [
        {
          "output_type": "display_data",
          "data": {
            "text/plain": [
              "<Figure size 1000x500 with 2 Axes>"
            ],
            "image/png": "[encoded data removed]"
          },
          "metadata": {}
        }
      ],
      "source": [
        "# simulate the whole experiment using the model with no recurrent connection\n",
        "rt = model(T=0.6, g=5.0, sigma=0.1, w_1_2=2, w_2_1=3, w_1_1=0, w_2_2=0, dataset=dataset, verbose=False, print_hist=True, print_acc_and_score=False, single=True)"
      ]
    },
    {
      "cell_type": "markdown",
      "metadata": {
        "id": "1pUQ7sDGNRe2"
      },
      "source": [
        "We simply called our models to simulate the whole experiment.\n",
        "We set T=0.6, g=5, sigma=0.1 and the weights depending on whether we want a recurrent model or not.\n"
      ]
    },
    {
      "cell_type": "markdown",
      "metadata": {
        "id": "2VxwTW9LwnvJ"
      },
      "source": [
        "## Parameter Fitting *(4 points)*\n",
        "\n",
        "For this exercise you should:\n",
        "\n",
        "*   Set up a suitable parameter search space *(1 point)*\n",
        "\n",
        "*   Implement a procedure to evaluate the fit of a model based on data *(2 points)*\n",
        "\n",
        "*   Implement a procedure for searching the parameter space. *(1 point)*\n",
        "\n",
        "Make sure to comment your code and provide an explanation for each code block in a preceding text block.\n",
        "\n"
      ]
    },
    {
      "cell_type": "code",
      "execution_count": 10,
      "metadata": {
        "id": "rxx0cpVX-t9b"
      },
      "outputs": [],
      "source": [
        "# search g from 0 to 10\n",
        "all_gs = [1, 2, 3, 4, 5, 6, 7, 8, 9, 10]"
      ]
    },
    {
      "cell_type": "code",
      "execution_count": 11,
      "metadata": {
        "id": "0d-7-YL_-iSm"
      },
      "outputs": [],
      "source": [
        "def MSE(arr_1, arr_2):\n",
        "  \"\"\" calculate the mean squared error\n",
        "\n",
        "  Inputs\n",
        "  -------\n",
        "  arr_1 : the first list of values\n",
        "  arr_2 : the second list of values\n",
        "\n",
        "  Output\n",
        "  -------\n",
        "  the mean squared difference of both lists\n",
        "  \"\"\"\n",
        "  score = 0\n",
        "  for v_1, v_2 in zip(arr_1, arr_2):\n",
        "    score += (v_1 - v_2)**2\n",
        "\n",
        "  return score/len(arr_1)"
      ]
    },
    {
      "cell_type": "code",
      "execution_count": 12,
      "metadata": {
        "id": "fOZ2cAwRF11j"
      },
      "outputs": [],
      "source": [
        "def MAE(arr_1, arr_2):\n",
        "  \"\"\" calculate the mean absolute error\n",
        "\n",
        "  Inputs\n",
        "  -------\n",
        "  arr_1 : the first list of values\n",
        "  arr_2 : the second list of values\n",
        "\n",
        "  Output\n",
        "  -------\n",
        "  the mean absolute difference of both lists\n",
        "  \"\"\"\n",
        "  score = 0\n",
        "  for v_1, v_2 in zip(arr_1, arr_2):\n",
        "    score += abs(v_1 - v_2)\n",
        "\n",
        "  return score/len(arr_1)"
      ]
    },
    {
      "cell_type": "markdown",
      "metadata": {
        "id": "LUk9khQ6O2hh"
      },
      "source": [
        "The functions above are only used for our knowledge and are calculated for the plot titles of the gain recovery."
      ]
    },
    {
      "cell_type": "code",
      "execution_count": 13,
      "metadata": {
        "id": "pbf05QHA-jDu"
      },
      "outputs": [],
      "source": [
        "def recover_param_g(human_dataset, data, possible_gs, w_1_2=1, w_2_1=1, w_1_1=1, w_2_2=1):\n",
        "  \"\"\" recovers the gain paramter through grid search and KL divergence\n",
        "\n",
        "  Inputs\n",
        "  ------\n",
        "  human_dataset: the empirical dataset, which the model uses to do the same experiment to simulate data\n",
        "  data: the data simulated by a model, which we try to recover the gain parameter from\n",
        "  possible_gs: the list of gains, we are iterating over (grid searching)\n",
        "  w_1_2=1, w_2_1=1: the inhibitory weights the model should use\n",
        "  w_1_1=1, w_2_2=1: the excitory (recurrent) weights the model should use\n",
        "\n",
        "  Output\n",
        "  ------\n",
        "  the best fitting gain for the simulated data provided\n",
        "  \"\"\"\n",
        "  T = 0.6        # Length of time for the control module\n",
        "  sigma = 0.1   # noise\n",
        "\n",
        "  best_g = None\n",
        "  best_score = 1000000\n",
        "\n",
        "  for g in possible_gs:\n",
        "    # simulate data\n",
        "    model_1 = model(T, g, sigma, w_1_2=w_1_2, w_2_1=w_2_1, w_1_1=w_1_1, w_2_2=w_2_2, dataset=human_dataset, I1=1, I2=1, verbose=False, print_hist=False, print_acc_and_score=False, single=True)\n",
        "    # determine fit based on KL divergence\n",
        "    score_x = sum(kl_div(model_1, data, out=None))\n",
        "\n",
        "    if score_x < best_score:\n",
        "      best_score = score_x\n",
        "      best_g = g\n",
        "\n",
        "  return best_g"
      ]
    },
    {
      "cell_type": "markdown",
      "metadata": {
        "id": "Q5ivnmcuPfsb"
      },
      "source": [
        "This function essentially is iterating over a range of gains, trying to determine the gain the model that simulated the provided data may used."
      ]
    },
    {
      "cell_type": "markdown",
      "metadata": {
        "id": "ueZgrw_ByFsF"
      },
      "source": [
        "## Parameter Recovery *(5 points)*\n",
        "\n",
        "For this exercise you should:\n",
        "\n",
        "*   Set up a suitable space of parameters relevant for parameter recovery *(1 point)*\n",
        "\n",
        "*   Use the functions above to generate behavior from a models, for a given set of (randomly sampled) parameters, and then fit the model to its generated data. Make sure to evaluate the parameter fit in a quantiative manner. *(3 points)*\n",
        "\n",
        "*   Plot the parameter recovery results for both models. *(1 point)*\n",
        "\n",
        "Make sure to comment your code and provide an explanation for each code block in a preceding text block.\n",
        "\n",
        "\n",
        "\n"
      ]
    },
    {
      "cell_type": "code",
      "execution_count": 14,
      "metadata": {
        "id": "eLK0nDYopQF9"
      },
      "outputs": [],
      "source": [
        "# range of gains to try\n",
        "all_gs = [1, 2, 3, 4, 5, 6, 7, 8, 9, 10]\n",
        "\n",
        "fitted_gs_recc = []\n",
        "tries = 10\n",
        "\n",
        "# iterate over list of gains trying to find best fit\n",
        "for g in all_gs:\n",
        "  # inhibitory\n",
        "  w_1_2=1\n",
        "  w_2_1=1\n",
        "  # excitory\n",
        "  w_1_1=1\n",
        "  w_2_2=0.0\n",
        "\n",
        "  temp = []\n",
        "  # do multiple times for more solid estimate\n",
        "  for i in range(tries):\n",
        "    # simulate data based on parameters above\n",
        "    created_data = model(0.6, g, 0.1, w_1_2=w_1_2, w_2_1=w_2_1, w_1_1=w_1_1, w_2_2=w_2_2, dataset=dataset, I1=1, I2=1, verbose=False, print_hist=False, print_acc_and_score=False, single=True)\n",
        "    # use recover function to determine the g, the model above used\n",
        "    temp.append(recover_param_g(dataset, created_data, all_gs, w_1_2=w_1_2, w_2_1=w_2_1, w_1_1=w_1_1, w_2_2=w_2_2))\n",
        "  # use average for more solid estimate of recoverbility\n",
        "  fitted_gs_recc.append(sum(temp) / tries)\n"
      ]
    },
    {
      "cell_type": "markdown",
      "metadata": {
        "id": "1E-wYY1hQsaS"
      },
      "source": [
        "Now we just used the recover_param_g() function by iterating over the range of gains we determined to simulate data and then subsequently trying to recover the parameter again, by iterating over the same range, using KL divergence to find closest match to the simulated data.\n"
      ]
    },
    {
      "cell_type": "code",
      "execution_count": 15,
      "metadata": {
        "colab": {
          "base_uri": "https://localhost:8080/"
        },
        "id": "hcGb108zI2I2",
        "outputId": "662854a7-096a-4d73-995f-00a4068f0943"
      },
      "outputs": [
        {
          "output_type": "stream",
          "name": "stdout",
          "text": [
            "[1.4, 3.1, 3.8, 7.3, 5.7, 7.8, 7.5, 6.5, 7.4, 7.3]\n"
          ]
        }
      ],
      "source": [
        "print(fitted_gs_recc)"
      ]
    },
    {
      "cell_type": "code",
      "execution_count": 16,
      "metadata": {
        "colab": {
          "base_uri": "https://localhost:8080/",
          "height": 472
        },
        "id": "n3kD7JxjqQoH",
        "outputId": "1ae85aa2-9ad3-499a-bcd7-dc50cfc5b410"
      },
      "outputs": [
        {
          "output_type": "display_data",
          "data": {
            "text/plain": [
              "<Figure size 640x480 with 1 Axes>"
            ],
            "image/png": "[encoded data removed]"
          },
          "metadata": {}
        }
      ],
      "source": [
        "fig, ax = plt.subplots()\n",
        "\n",
        "plt.xticks(all_gs)\n",
        "plt.yticks(all_gs)\n",
        "\n",
        "ax.scatter(all_gs, fitted_gs_recc)\n",
        "ax.plot(all_gs, all_gs, \"r\")\n",
        "\n",
        "ax.set_ylabel(\"fitted gains\")\n",
        "ax.set_xlabel(\"simulated gains\")\n",
        "\n",
        "ax.set_title(f\"Recurrent model, MSE : {round(MSE(fitted_gs_recc, all_gs), 2)}, MAE : {round(MAE(fitted_gs_recc, all_gs), 2)}\")\n",
        "plt.show()"
      ]
    },
    {
      "cell_type": "markdown",
      "metadata": {
        "id": "vVUNlSoWRP4W"
      },
      "source": [
        "A plot depicting how good the gain parameter of our recurrent model can be recovered. The fitted gains are an average of 10 times and the red line is the \"target\" function so to say, which would be the best possible case, if each of our recovered parameters was on there, but as you can see, our recovered parameters are not that far off."
      ]
    },
    {
      "cell_type": "code",
      "execution_count": 17,
      "metadata": {
        "id": "QKTgp5oGqP94"
      },
      "outputs": [],
      "source": [
        "# now we do the exact same things we did before, BUT with the non recurrent model\n",
        "\n",
        "# range of gains to try\n",
        "all_gs = [1, 2, 3, 4, 5, 6, 7, 8, 9, 10]\n",
        "\n",
        "fitted_gs_non = []\n",
        "tries = 10\n",
        "\n",
        "# iterate over list of gains trying to find best fit\n",
        "for g in all_gs:\n",
        "  # inhibitory\n",
        "  w_1_2=2\n",
        "  w_2_1=3\n",
        "  # excitory\n",
        "  w_1_1=0\n",
        "  w_2_2=0.0\n",
        "\n",
        "  temp = []\n",
        "  for i in range(tries):\n",
        "    # simulate data based on parameters above\n",
        "    created_data = model(0.6, g, 0.1, w_1_2=w_1_2, w_2_1=w_2_1, w_1_1=w_1_1, w_2_2=w_2_2, dataset=dataset, I1=1, I2=1, verbose=False, print_hist=False, print_acc_and_score=False, single=True)\n",
        "    # use recover function to determine the g, the model above used\n",
        "    temp.append(recover_param_g(dataset, created_data, all_gs, w_1_2=w_1_2, w_2_1=w_2_1, w_1_1=w_1_1, w_2_2=w_2_2))\n",
        "  # use average for more solid estimate of recoverbility\n",
        "  fitted_gs_non.append(sum(temp) / tries)"
      ]
    },
    {
      "cell_type": "code",
      "execution_count": 18,
      "metadata": {
        "colab": {
          "base_uri": "https://localhost:8080/"
        },
        "id": "nZP6gflefsHU",
        "outputId": "e3de78b6-b0ce-4fc1-f34d-e976388c5fdc"
      },
      "outputs": [
        {
          "output_type": "stream",
          "name": "stdout",
          "text": [
            "[1.2, 3.1, 5.9, 6.8, 7.2, 7.0, 7.0, 5.7, 6.9, 7.7]\n"
          ]
        }
      ],
      "source": [
        "print(fitted_gs_non)"
      ]
    },
    {
      "cell_type": "code",
      "execution_count": 19,
      "metadata": {
        "colab": {
          "base_uri": "https://localhost:8080/",
          "height": 472
        },
        "id": "GK04YW-6sIAL",
        "outputId": "2a3a426b-9182-440d-a83c-7067ddc92fd8"
      },
      "outputs": [
        {
          "output_type": "display_data",
          "data": {
            "text/plain": [
              "<Figure size 640x480 with 1 Axes>"
            ],
            "image/png": "[encoded data removed]"
          },
          "metadata": {}
        }
      ],
      "source": [
        "fig, ax = plt.subplots()\n",
        "\n",
        "plt.xticks(all_gs)\n",
        "plt.yticks(all_gs)\n",
        "\n",
        "ax.scatter(all_gs, fitted_gs_non)\n",
        "ax.plot(all_gs, all_gs, \"r\")\n",
        "\n",
        "ax.set_ylabel(\"fitted gains\")\n",
        "ax.set_xlabel(\"simulated gains\")\n",
        "\n",
        "ax.set_title(f\"Non Recurrent model, MSE : {round(MSE(fitted_gs_non, all_gs), 2)}, MAE : {round(MAE(fitted_gs_non, all_gs), 2)}\")\n",
        "plt.show()"
      ]
    },
    {
      "cell_type": "markdown",
      "metadata": {
        "id": "3oMufCBxSqwl"
      },
      "source": [
        "A plot depicting how good the gain parameter of our non recurrent model can be recovered. The fitted gains are an average of 10 times and the red line is the \"target\" function so to say, which would be the best possible case, if each of our recovered parameters was on there, but as you can see, our recovered parameters are not that far off AND even better than the ones of the recurrent model."
      ]
    },
    {
      "cell_type": "markdown",
      "metadata": {
        "id": "naQNlDBfzjnG"
      },
      "source": [
        "## *Optional*: Model Recovery *(2 bonus points)*\n",
        "\n",
        "In this bonus exercise, you may examine model reovery. The bonus points count towards your total group project points. That is, you may accumlate up to 22 points in the practical part of the group project.\n",
        "\n",
        "Make sure to comment your code and provide an explanation for each code block in a preceding text block.\n",
        "\n",
        "\n",
        "\n"
      ]
    },
    {
      "cell_type": "code",
      "execution_count": 20,
      "metadata": {
        "id": "tIR51ujwziTM"
      },
      "outputs": [],
      "source": [
        "def model_recover_g(rt_model_1, rt_model_2, dataset, recurrent=True, print_acc=False):\n",
        "    \"\"\" recover the model that has created the provided data\n",
        "\n",
        "    Inputs\n",
        "    -------\n",
        "    rt_model_1, rt_model_2: the data we try to figure out from which model the created it (usually rt_model_1 is the recurrent model and the other is non recurrent)\n",
        "    dataset: the empirical dataset which the models use to do the same trials and simulate data based on\n",
        "    recurrent=True: boolean, whether the model used in the recovery should be the recurrent or non recurrent one\n",
        "    print_acc=False: boolean, whether to print the recovered model (mostly used for model behaviour and feedback)\n",
        "\n",
        "    Output\n",
        "    ------\n",
        "    1 if the correct model was recovered else 0\n",
        "    \"\"\"\n",
        "    best_score = 10000000\n",
        "    best_model = None\n",
        "    best_g = None\n",
        "\n",
        "    # try different g for fitting\n",
        "    gs = [1, 2, 3, 4, 5, 6, 7, 8, 9, 10]\n",
        "    T = 0.6        # Length of time for the control module\n",
        "    sigma = 0.1   # noise\n",
        "\n",
        "    # iterate over the range of gains\n",
        "    for g in gs:\n",
        "      # choose model and simulate data based on parameters above\n",
        "      if recurrent:\n",
        "        model_1 = model(T, g, sigma, 1, 1, 1, 0.0, dataset, I1=1, I2=1, verbose=False, print_hist=False, print_acc_and_score=False, single=True)\n",
        "      else:\n",
        "        model_1 = model(T, g, sigma, 2, 3, 0, 0, dataset, I1=1, I2=1, verbose=False, print_hist=False, print_acc_and_score=False, single=True)\n",
        "\n",
        "      # calculate Kl divergence of simulated data and the provided data\n",
        "      score_x = sum(kl_div(model_1, rt_model_1, out=None))\n",
        "      score_y = sum(kl_div(model_1, rt_model_2, out=None))\n",
        "\n",
        "      # find best fit\n",
        "      if score_x < best_score:\n",
        "        best_score = score_x\n",
        "        best_model = \"recurrent_model\"\n",
        "        best_g = g\n",
        "      if score_y < best_score:\n",
        "        best_score = score_y\n",
        "        best_model = \"non recurrent_model\"\n",
        "        best_g = g\n",
        "\n",
        "    # useful printing for model behaviour investigation\n",
        "    if print_acc:\n",
        "      print(\"\\n\")\n",
        "      print(\"best model : \", best_model)\n",
        "      print(\"with score : \", best_score)\n",
        "      print(\"and best g : \", best_g)\n",
        "\n",
        "    # if recurrent model fits best and the model used for data simulation was recurrent, then success\n",
        "    if recurrent and best_model == \"recurrent_model\":\n",
        "      return 1\n",
        "    # if non recurrent model fits best and the model used for data simulation was non recurrent, then success\n",
        "    if not recurrent and best_model == \"non recurrent_model\":\n",
        "      return 1\n",
        "    # else we didnt recover successfully\n",
        "    else:\n",
        "      return 0"
      ]
    },
    {
      "cell_type": "markdown",
      "metadata": {
        "id": "6hfJDe-_VFa9"
      },
      "source": [
        "The function above is used by iterating (grid search) over gains and returning 1 if it successfully recovers the model that created the data, else 0.\n",
        "Then we can do that process multiple times for the same g and get an average of how many times the correct model was recovered for each gain and the overall recoverbility of our models as well."
      ]
    },
    {
      "cell_type": "code",
      "execution_count": 21,
      "metadata": {
        "id": "pyi_qBrOt3HO",
        "colab": {
          "base_uri": "https://localhost:8080/"
        },
        "outputId": "e5405bbb-fe66-4093-c236-37a42058c95c"
      },
      "outputs": [
        {
          "output_type": "stream",
          "name": "stdout",
          "text": [
            "g =  1\n",
            "0\n",
            "1\n",
            "2\n",
            "3\n",
            "4\n",
            "5\n",
            "6\n",
            "7\n",
            "8\n",
            "9\n",
            "g =  2\n",
            "0\n",
            "1\n",
            "2\n",
            "3\n",
            "4\n",
            "5\n",
            "6\n",
            "7\n",
            "8\n",
            "9\n",
            "g =  3\n",
            "0\n",
            "1\n",
            "2\n",
            "3\n",
            "4\n",
            "5\n",
            "6\n",
            "7\n",
            "8\n",
            "9\n",
            "g =  4\n",
            "0\n",
            "1\n",
            "2\n",
            "3\n",
            "4\n",
            "5\n",
            "6\n",
            "7\n",
            "8\n",
            "9\n",
            "g =  5\n",
            "0\n",
            "1\n",
            "2\n",
            "3\n",
            "4\n",
            "5\n",
            "6\n",
            "7\n",
            "8\n",
            "9\n",
            "g =  6\n",
            "0\n",
            "1\n",
            "2\n",
            "3\n",
            "4\n",
            "5\n",
            "6\n",
            "7\n",
            "8\n",
            "9\n",
            "g =  7\n",
            "0\n",
            "1\n",
            "2\n",
            "3\n",
            "4\n",
            "5\n",
            "6\n",
            "7\n",
            "8\n",
            "9\n",
            "g =  8\n",
            "0\n",
            "1\n",
            "2\n",
            "3\n",
            "4\n",
            "5\n",
            "6\n",
            "7\n",
            "8\n",
            "9\n",
            "g =  9\n",
            "0\n",
            "1\n",
            "2\n",
            "3\n",
            "4\n",
            "5\n",
            "6\n",
            "7\n",
            "8\n",
            "9\n",
            "g =  10\n",
            "0\n",
            "1\n",
            "2\n",
            "3\n",
            "4\n",
            "5\n",
            "6\n",
            "7\n",
            "8\n",
            "9\n"
          ]
        }
      ],
      "source": [
        "all_gs = [1,2,3,4,5,6,7,8,9,10]\n",
        "\n",
        "all_fitted_rec = []\n",
        "all_fitted_non = []\n",
        "\n",
        "# this function runs like 50 minutes, just be sure you want to run this, else use our last results\n",
        "sure = True\n",
        "if sure:\n",
        "  # iterate over all gains\n",
        "  for g in all_gs:\n",
        "    print('g = ',g)\n",
        "    fitted_gs_recc = []\n",
        "    fitted_gs_non = []\n",
        "\n",
        "    # use multiple runs to calculate average to get more solid results\n",
        "    for i in range(10):\n",
        "      print(i)\n",
        "      true_g = g\n",
        "\n",
        "      # simulate data\n",
        "      fit_g_recurrent = model(0.6, true_g, 0.1, w_1_2=1, w_2_1=1, w_1_1=1, w_2_2=0, dataset=dataset, I1=1, I2=1, verbose=False, print_hist=False, print_acc_and_score=False, single=True)\n",
        "      fit_g_not_recurrent = model(0.6, true_g, 0.1, w_1_2=2, w_2_1=3, w_1_1=0, w_2_2=0, dataset=dataset, I1=1, I2=1, verbose=False, print_hist=False, print_acc_and_score=False, single=True)\n",
        "\n",
        "      # fit rec model\n",
        "      score_recc = model_recover_g(fit_g_recurrent, fit_g_not_recurrent, dataset, recurrent=True, print_acc=False)\n",
        "      fitted_gs_recc.append(score_recc)\n",
        "\n",
        "      # fit non rec model\n",
        "      score_non = model_recover_g(fit_g_recurrent, fit_g_not_recurrent, dataset, recurrent=False, print_acc=False)\n",
        "      fitted_gs_non.append(score_non)\n",
        "\n",
        "    # calculate average\n",
        "    all_fitted_rec.append(sum(fitted_gs_recc)/len(fitted_gs_recc))\n",
        "    all_fitted_non.append(sum(fitted_gs_non)/len(fitted_gs_non))\n",
        "\n",
        "else:\n",
        "  all_fitted_rec = [0.9, 1.0, 1.0, 1.0, 1.0, 1.0, 1.0, 1.0, 1.0, 0.9]\n",
        "  all_fitted_non = [0.6, 0.5, 0.9, 1.0, 0.9, 1.0, 0.9, 0.9, 0.8, 0.9]\n"
      ]
    },
    {
      "cell_type": "code",
      "execution_count": 22,
      "metadata": {
        "id": "-enfyqAI66Ka",
        "colab": {
          "base_uri": "https://localhost:8080/"
        },
        "outputId": "5af26aa4-d5f8-414e-e9fe-4428cdaabce8"
      },
      "outputs": [
        {
          "output_type": "stream",
          "name": "stdout",
          "text": [
            "[1.0, 1.0, 1.0, 1.0, 1.0, 1.0, 1.0, 1.0, 1.0, 1.0]\n",
            "[0.4, 0.7, 0.8, 0.9, 0.9, 0.8, 1.0, 0.9, 1.0, 1.0]\n"
          ]
        }
      ],
      "source": [
        "# some more previous results (every run counts if you have to wait an hour for it)\n",
        "#all_fitted_rec = [0.8, 1.0, 1.0, 1.0, 1.0, 1.0, 1.0, 1.0, 1.0, 1.0]\n",
        "#all_fitted_non = [0.6, 0.8, 0.8, 0.9, 1.0, 1.0, 1.0, 1.0, 0.8, 0.9]\n",
        "\n",
        "print(all_fitted_rec)\n",
        "print(all_fitted_non)"
      ]
    },
    {
      "cell_type": "code",
      "execution_count": 23,
      "metadata": {
        "id": "0GR9CQqAupvO",
        "colab": {
          "base_uri": "https://localhost:8080/",
          "height": 449
        },
        "outputId": "f5fd0171-9e69-4a42-b520-ea162dfb31df"
      },
      "outputs": [
        {
          "output_type": "display_data",
          "data": {
            "text/plain": [
              "<Figure size 640x480 with 1 Axes>"
            ],
            "image/png": "[encoded data removed]"
          },
          "metadata": {}
        }
      ],
      "source": [
        "fig, ax = plt.subplots()\n",
        "\n",
        "ax.plot(all_gs, all_fitted_rec, 'bo')\n",
        "ax.plot(all_gs, all_fitted_non, 'gx')\n",
        "\n",
        "ax.set_ylim(0,1.1)\n",
        "\n",
        "ax.set_ylabel(\"average of correct recover\")\n",
        "ax.set_xlabel(\"gains\")\n",
        "\n",
        "plt.show()"
      ]
    },
    {
      "cell_type": "markdown",
      "metadata": {
        "id": "KCw_xj1hXNNp"
      },
      "source": [
        "The plot above depicts how good each model was recovered given each gain.\n",
        "The blue dots are the recurrent model recovers and the green x's are for the non recurrent network.\n",
        "As we can see, the recurrent model can be recoverer almost without errors, regardless of the underlying gain, while the non recurrent model struggled a bit, but overall is still pretty good recoverable.\n",
        "Next we will create the confusion matrix by summing up all these recovers to get an average of how good each model was recovered."
      ]
    },
    {
      "cell_type": "code",
      "execution_count": 24,
      "metadata": {
        "id": "-g9sYsgZu-6K",
        "colab": {
          "base_uri": "https://localhost:8080/",
          "height": 487
        },
        "outputId": "ca3ba814-b17b-42df-d6fe-43e814077349"
      },
      "outputs": [
        {
          "output_type": "display_data",
          "data": {
            "text/plain": [
              "<Figure size 640x480 with 1 Axes>"
            ],
            "image/png": "[encoded data removed]"
          },
          "metadata": {}
        }
      ],
      "source": [
        "# calculate average\n",
        "rec_avrg = sum(all_fitted_rec)/len(all_fitted_rec)\n",
        "non_avrg = sum(all_fitted_non)/len(all_fitted_non)\n",
        "\n",
        "# create confusion matrix\n",
        "conf_matr = [ [rec_avrg, 1 - rec_avrg],\n",
        "              [1 - non_avrg, non_avrg]\n",
        "            ]\n",
        "\n",
        "fig, ax = plt.subplots()\n",
        "im = ax.imshow(conf_matr, cmap=\"plasma\")\n",
        "\n",
        "# Loop over data dimensions and create text annotations.\n",
        "for i in range(2):\n",
        "    for j in range(2):\n",
        "      if i==j:\n",
        "        clr = \"b\"\n",
        "      else:\n",
        "        clr = \"w\"\n",
        "\n",
        "      text = ax.text(j,i,round(conf_matr[i][j],3),\n",
        "                      ha=\"center\", va=\"center\", color=clr)\n",
        "\n",
        "\n",
        "# Show all ticks and label them with the respective list entries\n",
        "ax.set_xticks(np.arange(2), labels=[\"fit recurrent\", \"fit non recurrent\"])\n",
        "ax.set_yticks(np.arange(2), labels=[\"simulated recurrent\", \"simulated non recurrent\"])\n",
        "\n",
        "#ax.set_title(\"model fitting)\")\n",
        "fig.tight_layout()\n",
        "plt.show()"
      ]
    },
    {
      "cell_type": "markdown",
      "metadata": {
        "id": "uAZzI3hiYC4h"
      },
      "source": [
        "As we saw before, the recurrent model can pretty much be recovered without errors (we used rounding here for a cleaner plot) and the non recurrent model had some trouble, but nothing too bad."
      ]
    },
    {
      "cell_type": "markdown",
      "metadata": {
        "id": "-q4dfJ7O0BpW"
      },
      "source": [
        "## Model Comparison *(5 points)*\n",
        "\n",
        "For this exercise you should:\n",
        "\n",
        "*   Load and (potentially) preprocess the experimental data. (1 point)\n",
        "\n",
        "*   Fit the two models to the data.  *(1 point)*\n",
        "\n",
        "*   Evaluate which model performs better, taking into account fit and model complexity. *(2 points)*\n",
        "\n",
        "*   Plot the behavior of the winning model against the data. *(1 point)**\n",
        "\n",
        "Make sure to comment your code and provide an explanation for each code block in a preceding text block.\n",
        "\n",
        "\n",
        "\n"
      ]
    },
    {
      "cell_type": "code",
      "execution_count": 25,
      "metadata": {
        "id": "8wAGI-kd1yRb",
        "colab": {
          "base_uri": "https://localhost:8080/"
        },
        "outputId": "a08d2ad2-b0a1-4e97-c5c4-17359dfd414c"
      },
      "outputs": [
        {
          "output_type": "stream",
          "name": "stdout",
          "text": [
            "best fitting model :  non recurrent\n",
            "best fitting gain :  6\n",
            "best fitting model :  non recurrent\n",
            "best fitting gain :  6\n",
            "best fitting model :  non recurrent\n",
            "best fitting gain :  6\n",
            "best fitting model :  non recurrent\n",
            "best fitting gain :  6\n",
            "best fitting model :  non recurrent\n",
            "best fitting gain :  6\n"
          ]
        }
      ],
      "source": [
        "# params\n",
        "gs = [1, 2, 3, 4, 5, 6, 7, 8, 9, 10]\n",
        "\n",
        "T = 0.6        # Length of time for the control module\n",
        "sigma = 0.1   # noise\n",
        "\n",
        "best_model = None\n",
        "best_g = None\n",
        "best_fit = 100000\n",
        "\n",
        "# if uncertain increase tries (use odd number for median)\n",
        "tries = 5\n",
        "all_fits = []\n",
        "all_gs = []\n",
        "\n",
        "for i in range(tries):\n",
        "  # loop over different gains and determine best fit\n",
        "  np.random.seed()\n",
        "  for g in gs:\n",
        "    g_recc, score_recc = model(T, g, sigma, 1, 1, 1, 0, dataset, verbose=False, print_hist=False, print_acc_and_score=False, single=False)\n",
        "    g_non, score_non = model(T, g, sigma, 2, 3, 0, 0, dataset, verbose=False, print_hist=False, print_acc_and_score=False, single=False)\n",
        "\n",
        "    if score_recc < best_fit:\n",
        "      best_model = \"recurrent\"\n",
        "      best_g = g\n",
        "      best_fit = score_recc\n",
        "    if score_non < best_fit:\n",
        "      best_model = \"non recurrent\"\n",
        "      best_g = g\n",
        "      best_fit = score_non\n",
        "\n",
        "  print(\"best fitting model : \", best_model)\n",
        "  print(\"best fitting gain : \", best_g)\n",
        "  all_fits.append(best_model)\n",
        "  all_gs.append(best_g)\n",
        "\n",
        "if tries > 1:\n",
        "  choice = int((tries-1)/2)\n",
        "  srt = np.argsort(all_gs)\n",
        "  np.array(all_fits)[srt]\n",
        "  best_model = all_fits[choice]\n",
        "  best_g = all_gs[choice]"
      ]
    },
    {
      "cell_type": "markdown",
      "metadata": {
        "id": "XLnc_dOnYfCE"
      },
      "source": [
        "Here we used the same approaches as before, since we determined a range of gains, loop over it, used KL divergence to find best fit and returned best fit after all gains have been tried out. The major difference is, that we now didnt use simulated data from our models, but the empirical data.\n",
        "As we can see, the non recurrent model with a gain of 10 seems to be the best fit. This is somewhat unfortunate, as 10 is the highest gain we have tried, which begs the question, whether a greater g might fit even better. The answer should be no, since the experiment itself didnt allow for any deep concetration on any task, as each trail was random, thus an overall small g should have been most likely the best fit, but this is probably due to the nature of our very simple model we created, but nontheless, greate recoverability of paramter and model should give us some hint to the true nature of our experimental data."
      ]
    },
    {
      "cell_type": "code",
      "execution_count": 26,
      "metadata": {
        "id": "aY6232Yv-9Ty",
        "colab": {
          "base_uri": "https://localhost:8080/",
          "height": 575
        },
        "outputId": "513b0c40-b745-4352-879f-c82fe998c207"
      },
      "outputs": [
        {
          "output_type": "stream",
          "name": "stdout",
          "text": [
            "model :  non recurrent\n",
            "g :  6\n"
          ]
        },
        {
          "output_type": "display_data",
          "data": {
            "text/plain": [
              "<Figure size 1000x500 with 2 Axes>"
            ],
            "image/png": "[encoded data removed]"
          },
          "metadata": {}
        },
        {
          "output_type": "stream",
          "name": "stdout",
          "text": [
            "model accuracy :  0.7637969094922737\n",
            "model divergence to empirical data (low == good) : 50.58460696293559\n"
          ]
        }
      ],
      "source": [
        "print(\"model : \", best_model)\n",
        "print(\"g : \", best_g)\n",
        "# use best fit g and model\n",
        "g = best_g\n",
        "T = 0.6        # Length of time for the control module\n",
        "sigma = 0.1   # noise\n",
        "\n",
        "# recurrent model\n",
        "if best_model == \"recurrent\":\n",
        "  g_recc, score_recc = model(T, g, sigma, 1, 1, 1, 0, dataset, verbose=False, print_hist=True, print_acc_and_score=True, single=False)\n",
        "\n",
        "# non recurrent\n",
        "if best_model == \"non recurrent\":\n",
        "  g_non, score_non = model(T, g, sigma, 2, 3, 0, 0, dataset, verbose=False, print_hist=True, print_acc_and_score=True, single=False)"
      ]
    },
    {
      "cell_type": "markdown",
      "metadata": {
        "id": "gEOBn5RmZz_e"
      },
      "source": [
        "Now we simply plot the best fit, but most has been said above about these results.\n",
        "We hope you enjoyed our notebook & model and that the comments, docstrings and text cells were enough of help to figure out our model and project design. <br>\n",
        "Thanks for a great course, <br>\n",
        "Cheers,<br>\n",
        "Group 7"
      ]
    }
  ],
  "metadata": {
    "colab": {
      "provenance": []
    },
    "kernelspec": {
      "display_name": "Python 3",
      "name": "python3"
    },
    "language_info": {
      "name": "python"
    }
  },
  "nbformat": 4,
  "nbformat_minor": 0
}